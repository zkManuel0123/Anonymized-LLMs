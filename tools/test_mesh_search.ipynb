{
 "cells": [
  {
   "cell_type": "code",
   "execution_count": 1,
   "metadata": {},
   "outputs": [],
   "source": [
    "import xml.etree.ElementTree as ET\n",
    "import pandas as pd\n",
    "from rapidfuzz import process, fuzz\n",
    "from typing import Tuple, Optional\n",
    "\n",
    "# 加载 XML 文件\n",
    "def parse_mesh_xml():\n",
    "    file_path = r\"D:\\HerbAgent\\data\\desc2024.xml\"\n",
    "    tree = ET.parse(file_path)\n",
    "    root = tree.getroot()\n",
    "    \n",
    "    # 创建列表存储数据\n",
    "    descriptor_names = []\n",
    "    unique_ids = []\n",
    "    entry_terms_list = []\n",
    "    \n",
    "    # 遍历每个 DescriptorRecord\n",
    "    for record in root.findall(\"DescriptorRecord\"):\n",
    "        descriptor_name = record.find(\"DescriptorName/String\").text\n",
    "        unique_id = record.find(\"DescriptorUI\").text\n",
    "        entry_terms = [entry.text for entry in record.findall(\"ConceptList/Concept/TermList/Term/String\")]\n",
    "        \n",
    "        # 添加到对应的列表\n",
    "        descriptor_names.append(descriptor_name)\n",
    "        unique_ids.append(unique_id)\n",
    "        entry_terms_list.append(entry_terms)\n",
    "    \n",
    "    # 创建 DataFrame\n",
    "    mesh_df = pd.DataFrame({\n",
    "        'DescriptorName': descriptor_names,\n",
    "        'UniqueID': unique_ids,\n",
    "        'EntryTerms': entry_terms_list\n",
    "    })\n",
    "    \n",
    "    return mesh_df\n",
    "\n"
   ]
  },
  {
   "cell_type": "code",
   "execution_count": 2,
   "metadata": {},
   "outputs": [
    {
     "data": {
      "text/html": [
       "<div>\n",
       "<style scoped>\n",
       "    .dataframe tbody tr th:only-of-type {\n",
       "        vertical-align: middle;\n",
       "    }\n",
       "\n",
       "    .dataframe tbody tr th {\n",
       "        vertical-align: top;\n",
       "    }\n",
       "\n",
       "    .dataframe thead th {\n",
       "        text-align: right;\n",
       "    }\n",
       "</style>\n",
       "<table border=\"1\" class=\"dataframe\">\n",
       "  <thead>\n",
       "    <tr style=\"text-align: right;\">\n",
       "      <th></th>\n",
       "      <th>DescriptorName</th>\n",
       "      <th>UniqueID</th>\n",
       "      <th>EntryTerms</th>\n",
       "    </tr>\n",
       "  </thead>\n",
       "  <tbody>\n",
       "    <tr>\n",
       "      <th>0</th>\n",
       "      <td>Calcimycin</td>\n",
       "      <td>D000001</td>\n",
       "      <td>[Calcimycin, 4-Benzoxazolecarboxylic acid, 5-(...</td>\n",
       "    </tr>\n",
       "    <tr>\n",
       "      <th>1</th>\n",
       "      <td>Temefos</td>\n",
       "      <td>D000002</td>\n",
       "      <td>[Temefos, Temephos, Difos, Abate]</td>\n",
       "    </tr>\n",
       "    <tr>\n",
       "      <th>2</th>\n",
       "      <td>Abattoirs</td>\n",
       "      <td>D000003</td>\n",
       "      <td>[Abattoirs, Abattoir, Slaughterhouses, Slaught...</td>\n",
       "    </tr>\n",
       "    <tr>\n",
       "      <th>3</th>\n",
       "      <td>Abbreviations as Topic</td>\n",
       "      <td>D000004</td>\n",
       "      <td>[Abbreviations as Topic, Acronyms as Topic]</td>\n",
       "    </tr>\n",
       "    <tr>\n",
       "      <th>4</th>\n",
       "      <td>Abdomen</td>\n",
       "      <td>D000005</td>\n",
       "      <td>[Abdomen, Abdomens]</td>\n",
       "    </tr>\n",
       "  </tbody>\n",
       "</table>\n",
       "</div>"
      ],
      "text/plain": [
       "           DescriptorName UniqueID  \\\n",
       "0              Calcimycin  D000001   \n",
       "1                 Temefos  D000002   \n",
       "2               Abattoirs  D000003   \n",
       "3  Abbreviations as Topic  D000004   \n",
       "4                 Abdomen  D000005   \n",
       "\n",
       "                                          EntryTerms  \n",
       "0  [Calcimycin, 4-Benzoxazolecarboxylic acid, 5-(...  \n",
       "1                  [Temefos, Temephos, Difos, Abate]  \n",
       "2  [Abattoirs, Abattoir, Slaughterhouses, Slaught...  \n",
       "3        [Abbreviations as Topic, Acronyms as Topic]  \n",
       "4                                [Abdomen, Abdomens]  "
      ]
     },
     "execution_count": 2,
     "metadata": {},
     "output_type": "execute_result"
    }
   ],
   "source": [
    "mesh_df = parse_mesh_xml()\n",
    "mesh_df.head()"
   ]
  },
  {
   "cell_type": "code",
   "execution_count": 3,
   "metadata": {},
   "outputs": [
    {
     "data": {
      "text/html": [
       "<div>\n",
       "<style scoped>\n",
       "    .dataframe tbody tr th:only-of-type {\n",
       "        vertical-align: middle;\n",
       "    }\n",
       "\n",
       "    .dataframe tbody tr th {\n",
       "        vertical-align: top;\n",
       "    }\n",
       "\n",
       "    .dataframe thead th {\n",
       "        text-align: right;\n",
       "    }\n",
       "</style>\n",
       "<table border=\"1\" class=\"dataframe\">\n",
       "  <thead>\n",
       "    <tr style=\"text-align: right;\">\n",
       "      <th></th>\n",
       "      <th>DescriptorName</th>\n",
       "      <th>UniqueID</th>\n",
       "      <th>EntryTerms</th>\n",
       "    </tr>\n",
       "  </thead>\n",
       "  <tbody>\n",
       "    <tr>\n",
       "      <th>13354</th>\n",
       "      <td>Thyroid Neoplasms</td>\n",
       "      <td>D013964</td>\n",
       "      <td>[Thyroid Neoplasms, Neoplasm, Thyroid, Thyroid...</td>\n",
       "    </tr>\n",
       "  </tbody>\n",
       "</table>\n",
       "</div>"
      ],
      "text/plain": [
       "          DescriptorName UniqueID  \\\n",
       "13354  Thyroid Neoplasms  D013964   \n",
       "\n",
       "                                              EntryTerms  \n",
       "13354  [Thyroid Neoplasms, Neoplasm, Thyroid, Thyroid...  "
      ]
     },
     "execution_count": 3,
     "metadata": {},
     "output_type": "execute_result"
    }
   ],
   "source": [
    "mesh_df[mesh_df['DescriptorName'] == 'Thyroid Neoplasms' ]"
   ]
  }
 ],
 "metadata": {
  "kernelspec": {
   "display_name": "ai_agent",
   "language": "python",
   "name": "python3"
  },
  "language_info": {
   "codemirror_mode": {
    "name": "ipython",
    "version": 3
   },
   "file_extension": ".py",
   "mimetype": "text/x-python",
   "name": "python",
   "nbconvert_exporter": "python",
   "pygments_lexer": "ipython3",
   "version": "3.10.15"
  }
 },
 "nbformat": 4,
 "nbformat_minor": 2
}
